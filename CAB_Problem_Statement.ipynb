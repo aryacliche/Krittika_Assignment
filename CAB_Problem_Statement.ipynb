{
 "cells": [
  {
   "cell_type": "markdown",
   "metadata": {
    "id": "6jprQ7IFBY9b"
   },
   "source": [
    "# **Question 1 : Visualizing Pleiades cluster**\n",
    "\n",
    "Our beloved astronomy club, Krittika, is named after one of the most conspicuous star cluster in the sky, Pleiades. The CSV file stardata.csv\n",
    "contains four columns of data, which contain the following data for 196 stars in the cluster:\n",
    "\n",
    "\n",
    "*   Column 1: RA of each star in degrees\n",
    "*   Column 2: Declination of each star in degrees\n",
    "*   Column 3: Parallax of each star in milliarcseconds (mas)\n",
    "*   Column 4: Apparent Magnitude of the star\n",
    "\n",
    "\n",
    "Parallax $p$ of a star is directly related to its distance $d$ as $d$ in parsecs $= \\frac{1}{p}$ where parallax is in arcseconds.\n",
    "\n",
    "Before proceeding, you need to be able to read the csv file contents, and since the assignment involves graphs, you might want to import some things as well:"
   ]
  },
  {
   "cell_type": "code",
   "execution_count": 1,
   "metadata": {
    "id": "wFuuIRbqCIRL"
   },
   "outputs": [],
   "source": [
    "import numpy as np\n",
    "import math\n",
    "import matplotlib.pyplot as plt\n",
    "%matplotlib inline"
   ]
  },
  {
   "cell_type": "markdown",
   "metadata": {
    "id": "tRub3yySCcbd"
   },
   "source": [
    "A little background on magnitude of a star:\n",
    "\n",
    "Magnitudes in Astronomy are a way to describe how bright an object (in our case, a star) is:\n",
    "\n",
    "**Apparent magnitude**: Apparent magnitude ($m$) is a measure of the brightness of a star or any other astronomical object observed from the earth. It is similar to the decibel system for sound in that magnitudes are logarithmic and can be calculated according to the formula\n",
    "$$m = -2.5 \\log  { \\left ( \\dfrac{F}{F_0} \\right )} $$\n",
    "where $F$ is the flux from the star (measured in $W/m^2$), and $F_0$ is a reference flux. \n",
    "\n",
    "We can calculate the flux of a star at some distance $d$ away as\n",
    "$$F = \\dfrac{L}{4 \\pi d^2}$$\n",
    "\n",
    "where $L$ is the Luminosity of the star (measured in W).\n",
    "\n",
    "**Absolute magnitude**: It is the magnitude of the star at a distance of 10 pc, and is related to the apparent magnitude by (and try to see if you can derive this):\n",
    "$$m-M = -5 + 5\\log_{10}(d)$$\n",
    "where $M$ is the absolute magnitude and $d$ is the distance of the star from us in parsecs (pc).\n",
    "To read up more about magnitudes, hit up this Wikipedia article - https://en.wikipedia.org/wiki/Magnitude_(astronomy%29.\n",
    "\n",
    "Using the above info and the earlier relation of distance and parallax, use the imported libraries to find the absolute magnitudes of all the stars of the csv file, and plot a histogram of the distribution, with 50 bins."
   ]
  },
  {
   "cell_type": "code",
   "execution_count": 2,
   "metadata": {
    "id": "kJpsPXK6sMZp"
   },
   "outputs": [
    {
     "data": {
      "text/plain": [
       "Text(0.5, 1.0, 'Histogram')"
      ]
     },
     "execution_count": 2,
     "metadata": {},
     "output_type": "execute_result"
    },
    {
     "data": {
      "image/png": "[encoded data removed]",
      "text/plain": [
       "<Figure size 432x288 with 1 Axes>"
      ]
     },
     "metadata": {
      "needs_background": "light"
     },
     "output_type": "display_data"
    }
   ],
   "source": [
    "#Some of the data in the csv file use -- to show the absence of data, so we cannot use np.loadtext directly\n",
    "star_data= np.genfromtxt('stardata.csv', delimiter=',') # a more general form of loadtxt\n",
    "\n",
    "#now let us try to make it into useful arrays\n",
    "ra=star_data[:, 0]\n",
    "decline=star_data[:, 1]\n",
    "para=star_data[:, 2]\n",
    "app_mag=star_data[:, 3]\n",
    "\n",
    "#d(in parsecs)= 1/p in arcseconds= 1e3/p in milli arcseconds\n",
    "d=1e3/para\n",
    "#M=m+5-5 log(d)\n",
    "abs_mag= app_mag + 5 - 5 * np.log(d)\n",
    "\n",
    "plt.hist(abs_mag,bins=np.arange(-30, -5, 0.5)) \n",
    "plt.xlabel('Absolute Magnitudes')\n",
    "plt.ylabel('Frequency')\n",
    "plt.title('Histogram')"
   ]
  },
  {
   "cell_type": "markdown",
   "metadata": {
    "id": "GafdlK2-sinu"
   },
   "source": [
    "A good way to visualize the actual star cluster as it appears to us in the night sky would be to make a scatter plot of declination and RA on the $y$ and $x$ axes respectively. Try plotting the stars such that the star appears bigger if it is brighter. One way to do this is to make the size of dots in scatter plot proportional to (12 - apparent magnitude) of the star.\n",
    "\n",
    "(Hint: Google how to make a scatter plot with variable size of dots.)\n",
    "\n",
    "If you can't make a plot with variable dot sizes, make a simple plot with all dots of same size."
   ]
  },
  {
   "cell_type": "code",
   "execution_count": 3,
   "metadata": {
    "id": "JUu_c0zU6vFF"
   },
   "outputs": [
    {
     "data": {
      "image/png": "[encoded data removed]",
      "text/plain": [
       "<Figure size 432x288 with 1 Axes>"
      ]
     },
     "metadata": {
      "needs_background": "light"
     },
     "output_type": "display_data"
    }
   ],
   "source": [
    "#for i in range(0, len(abs_mag)):\n",
    "#    decline_i=np.array([])\n",
    "#    ra_i=np.array([])\n",
    "#    decline_i=np.append(decline_i, decline[i])\n",
    "#    ra_i= np.append(ra_i, ra[i])\n",
    "#    plt.scatter(decline_i, ra_i, s=12- abs_mag[i], c='r')\n",
    "#--------------------------------------------------------------------------------------------------------\n",
    "\n",
    "\n",
    "fig, ax = plt.subplots() #now don't ask me what any of this means. I googled and tried to color my graph properly\n",
    "\n",
    "ax.scatter(ra, decline, s=12-app_mag, c='#dfeef5') #used a slightly bluish hue\n",
    "ax.set_facecolor(\"black\")\n",
    "plt.title(\"Night sky\", fontsize=25)\n",
    "  \n",
    "plt.xlabel('RA', fontsize=18)\n",
    "plt.ylabel('Declination', fontsize=18)\n",
    "  \n",
    "plt.show()"
   ]
  },
  {
   "cell_type": "markdown",
   "metadata": {
    "id": "L2gMlFIy7Ucq"
   },
   "source": [
    "# **Question 2 : Estimating Age of Universe using Hubble's Law**\n",
    "\n",
    "In this problem, we will use Hubble's Law on a large number of galaxies, and fit the data to a linear model to find the value of the Hubble Constant, which we will use to calculate the current age of the universe.\n",
    "\n",
    "You can learn more about Hubble's Law, a very important principle of cosmology and expansion of Universe over here - https://simple.m.wikipedia.org/wiki/Hubble%27s_law \n",
    "\n",
    "Step 0: Importing libraries\n",
    "\n",
    "Dump all the required libraries, and define any necessary constants in the code box below.\n",
    "\n",
    "You will require the optimize module of scipy library, so be sure to include a line saying `from scipy.optimize import curve_fit`."
   ]
  },
  {
   "cell_type": "code",
   "execution_count": 4,
   "metadata": {
    "id": "DTpOG9Fr70Nc"
   },
   "outputs": [],
   "source": [
    "import numpy as np\n",
    "import matplotlib.pyplot as plt\n",
    "from scipy.optimize import curve_fit as cf\n",
    "%matplotlib inline"
   ]
  },
  {
   "cell_type": "markdown",
   "metadata": {
    "id": "b_Fes9_P78i_"
   },
   "source": [
    "Step 2: Loading the data\n",
    "\n",
    "Open the file \"data.txt\" and store it in array(s). First row contains the distance modulus (https://en.m.wikipedia.org/wiki/Distance_modulus) of the galaxy from earth, second row contains the line of sight velocity in km/s.\n",
    "\n",
    "To convert distance modulus to distance in Megaparsecs (the unit we will be using in the rest of the question), use the formula:\n",
    "\n",
    "$d = 10^{\\left(\\frac{d_{dist mod}}{5} - 5\\right)}$\n",
    "\n",
    "where $d$ is in megaparsecs (Mpc)."
   ]
  },
  {
   "cell_type": "code",
   "execution_count": 5,
   "metadata": {
    "id": "itgR16OO8jTb"
   },
   "outputs": [],
   "source": [
    "##we first use the open and read statements to read data from the txt file\n",
    "#with open('data.txt', 'r') as f:\n",
    "#    lines = f.read().split('\\n')\n",
    "#data_array = []\n",
    "#for line in lines:\n",
    "#    data_array.append(line.split(','))\n",
    "#\n",
    "#data_array.pop(0)#the header is useless for our purposes thus removed\n",
    "#\n",
    "#velocity=np.array([])\n",
    "#distance=np.array([])\n",
    "\n",
    "#This is to extract distances and velocities from data_array in the form of float numpy arrays\n",
    "#for i in range(0, len(data_array)):\n",
    "#    velocity=np.append(velocity, float(data_array[i][1]))\n",
    "#    distance=np.append(distance,float(data_array[i][0]))\n",
    "\n",
    "#--------------------------------------------------------------------------------------------------------\n",
    "data_array=np.genfromtxt('data.txt', delimiter=',') # a more general form of loadtxt\n",
    "data_array=np.delete(data_array, 0, axis=0)#To get rid of the title heading\n",
    "\n",
    "\n",
    "velocity=data_array[:, 1]\n",
    "distance=data_array[:, 0]\n",
    "\n",
    "#now let us convert our distance into megaparsecs\n",
    "distance=10**(distance/5 -5)"
   ]
  },
  {
   "cell_type": "markdown",
   "metadata": {
    "id": "v8n0_bmv8rBu"
   },
   "source": [
    "Step 3: Preliminary Data Visualization\n",
    "\n",
    "Create a function taking the distance to the galaxy, and a slope and an intercept parameter as input, returning recession velocity of that galaxy as output. A code snippet showing how to use curve_fit to find the optimum slope and intercept is shown here - https://github.com/krittikaiitb/tutorials/blob/master/Tutorial_07/SciPy1.ipynb \n",
    "\n",
    "Create a scatter plot of the line of sight velocity of the galaxies (in km/s) vs the distance to the galaxies (in Mpc). Also plot the model you just fit in the same graph."
   ]
  },
  {
   "cell_type": "code",
   "execution_count": 6,
   "metadata": {
    "id": "PYqutdHI8yB6"
   },
   "outputs": [
    {
     "data": {
      "text/plain": [
       "<matplotlib.legend.Legend at 0x2766b78d7f0>"
      ]
     },
     "execution_count": 6,
     "metadata": {},
     "output_type": "execute_result"
    },
    {
     "data": {
      "image/png": "[encoded data removed]",
      "text/plain": [
       "<Figure size 432x288 with 1 Axes>"
      ]
     },
     "metadata": {
      "needs_background": "light"
     },
     "output_type": "display_data"
    }
   ],
   "source": [
    "#To study the plot better, I thought it would be useful to temporarily elminate all the extremely high values of d and v\n",
    "#indices=np.where(distance<200) # change this number as you want\n",
    "\n",
    "#temp_dist=np.array([])\n",
    "#temp_vel=np.array([])\n",
    "#for i in indices:\n",
    "#    temp_dist=np.append(temp_dist, distance[i])\n",
    "#    temp_vel=np.append(temp_vel,velocity[i])\n",
    "#velocity=np.copy(temp_vel)\n",
    "#distance=np.copy(temp_dist)\n",
    "\n",
    "#plt.scatter(velocity, distance, s=1,color='teal',label='Observations')\n",
    "##plt.xscale(\"log\") #I plotted the graph in logarithmic scale to see if there were any deviations from linearity in the smaller scale speeds- insignificant deviation was found.\n",
    "##plt.yscale(\"log\")\n",
    "#plt.xlabel(\"Velocity (in km/s)\")\n",
    "#plt.ylabel(\"Distance (in Mpc)\")\n",
    "#plt.legend()\n",
    "#--------------------------------------------------------------------------------------------------------\n",
    "\n",
    "#After all of this plotting, I suspect that the curve is a linear one. Thus I will define a function which is linear\n",
    "\n",
    "def linear_law(d, m, c):\n",
    "    #d is the distance array, m is the slope, c is the intercept parameter\n",
    "    return (d-c)/m #since distance is plotted on the y axis\n",
    "\n",
    "p_opt, p_cov = cf(linear_law,distance,velocity)\n",
    "\n",
    "plt.plot(linear_law(distance,*p_opt),distance,label='Best Fit',color='red')\n",
    "plt.scatter(velocity, distance, s=1,color='teal',label='Observations')\n",
    "plt.xlabel('Velocity (in km/s)')\n",
    "plt.ylabel('Distance (in Mpc)')\n",
    "plt.title('Linear Fit')\n",
    "plt.legend()\n",
    "\n",
    "#print(\"{:,}\".format(3.086e+19*(p_opt[0]/3.154e+7))) at this point prints age of the universe in years and outputs a number like 15 billion years.\n",
    "    "
   ]
  },
  {
   "cell_type": "markdown",
   "metadata": {
    "id": "osng2Pxi84rx"
   },
   "source": [
    "Step 4: Removing Outliers (OPTIONAL)\n",
    "\n",
    "As you can see, there are many points on the outskirts of the graph, which may affect out calulations of the slope and intercept unduly. Devise a way to remove those outliers to your satisfaction, and replot the remaining data points. There are multiple ways to do this, a few of them could be:\n",
    "\n",
    "1. Removing all points whose distances are 3$\\times$(Standard Deviation of Distance from Earth) away from the Mean Distance of all input galaxies from Earth. (or take any factor other than 3)\n",
    "\n",
    "2. Removing all points which are a certain distance away from the best fit line initially calculated (decide yourself what to set this distance as, could be a factor of the mean distance from the line for all points)."
   ]
  },
  {
   "cell_type": "code",
   "execution_count": 7,
   "metadata": {
    "id": "0-RxWO9g9Lzd"
   },
   "outputs": [
    {
     "data": {
      "text/plain": [
       "<matplotlib.legend.Legend at 0x2766acefc40>"
      ]
     },
     "execution_count": 7,
     "metadata": {},
     "output_type": "execute_result"
    },
    {
     "data": {
      "image/png": "[encoded data removed]",
      "text/plain": [
       "<Figure size 432x288 with 1 Axes>"
      ]
     },
     "metadata": {
      "needs_background": "light"
     },
     "output_type": "display_data"
    }
   ],
   "source": [
    "for i in range(0, 4): # This for loop basically ensures that we can get rid of extreme 5% and then extreme 5% of that subset and so on and so forth.\n",
    "    #I found this method better as intuitively it felt better to iteratively decrease the width of subsequent graphs than drastically decreasing \n",
    "    #the width of the initial distribution\n",
    "    mean_distance=np.mean(distance)\n",
    "    standard_deviation=np.std(distance)\n",
    "    #Since 95% of the observations fall within 2 standard deviations of the mean, I want to exclude the ones at the extreme 5%\n",
    "    velocity=np.delete(velocity, np.where(distance>mean_distance+ 2 * standard_deviation))# this deletes whatever values correspond to distances that \n",
    "    #fall outside of the mean+ 2 * s.d. region of the distribution\n",
    "    distance=np.delete(distance, np.where(distance>mean_distance+ 2 * standard_deviation))\n",
    "\n",
    "p_opt, p_cov = cf(linear_law,distance,velocity)\n",
    "\n",
    "plt.plot(linear_law(distance,*p_opt),distance,label='Best Fit',color='red')\n",
    "plt.scatter(velocity, distance, s=1,color='teal',label='Observations')\n",
    "plt.xlabel('Velocity (in km/s)')\n",
    "plt.ylabel('Distance (in Mpc)')\n",
    "plt.title('Linear Fit')\n",
    "plt.legend()\n",
    "\n",
    "#You can clearly see a much better fit with the refined subset\n",
    "\n"
   ]
  },
  {
   "cell_type": "markdown",
   "metadata": {
    "id": "y0PXYi3V9QF0"
   },
   "source": [
    "Step 5: Conclusion\n",
    "\n",
    "The slope of the graph (with recessional velocity in the y-axis and distance of the galaxy in the x-axis) gives us the Hubble Constant $H_0$ (in units km/s-Mpc). The reciprocal of the Hubble Constant is a good approximation for the age of the universe. Hence, find the age of the universe using your calculations."
   ]
  },
  {
   "cell_type": "code",
   "execution_count": 8,
   "metadata": {
    "id": "2u9oHjvS9gZf"
   },
   "outputs": [
    {
     "name": "stdout",
     "output_type": "stream",
     "text": [
      "Slope= Hubble constant = 71.53245684464804 km/s-Mpc\n",
      "Hence the age of the universe is = 0.013979668029182456 Megaparsec/km s= 13,678,267,450.24003 years\n"
     ]
    }
   ],
   "source": [
    "#Obviously the slope of the linear graph is stored in the array p_opt\n",
    "print(f\"Slope= Hubble constant = {1/p_opt[0]} km/s-Mpc\")\n",
    "number_of_years= \"{:,}\".format(3.086e+19*(p_opt[0]/3.154e+7))\n",
    "print(f\"Hence the age of the universe is = {p_opt[0]} Megaparsec/km s= {number_of_years} years\")"
   ]
  },
  {
   "cell_type": "code",
   "execution_count": 9,
   "metadata": {},
   "outputs": [],
   "source": [
    "#Thank you for your patience with all of these incredibly long and winding comments. <3"
   ]
  }
 ],
 "metadata": {
  "colab": {
   "authorship_tag": "ABX9TyNaK6XDBQKfATua5LP6gr1x",
   "collapsed_sections": [],
   "name": "CAB_Problem_Statement.ipynb",
   "provenance": []
  },
  "kernelspec": {
   "display_name": "Python 3 (ipykernel)",
   "language": "python",
   "name": "python3"
  },
  "language_info": {
   "codemirror_mode": {
    "name": "ipython",
    "version": 3
   },
   "file_extension": ".py",
   "mimetype": "text/x-python",
   "name": "python",
   "nbconvert_exporter": "python",
   "pygments_lexer": "ipython3",
   "version": "3.9.12"
  }
 },
 "nbformat": 4,
 "nbformat_minor": 1
}
